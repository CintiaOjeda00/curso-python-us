{
  "cells": [
    {
      "cell_type": "markdown",
      "metadata": {
        "id": "chMSoBscb2c_"
      },
      "source": [
        "# Principios básicos de Python \n",
        "\n",
        "En esta sección vamos a familiarizarnos con los tipos predefinidos de Python y cómo manejarlos para transformar los diferentes datos de nuestro programa. \n",
        "\n",
        "---\n",
        "## Predefinidos, Variables y Expresiones\n",
        "\n",
        "Python incorpora una serie de tipos predefinidos o primitivos como **enteros**, **flotantes**, **cadenas** o **booleanos**"
      ]
    },
    {
      "cell_type": "markdown",
      "source": [
        "```\n",
        "42              # int \n",
        "4.2             # float\n",
        "\"forty-two\"     # str\n",
        "True            # bool\n",
        "complex(1, -1)  # complex\n",
        "```"
      ],
      "metadata": {
        "id": "7vBMjp9lb2dB"
      }
    },
    {
      "cell_type": "markdown",
      "metadata": {
        "id": "_pLovaVmb2dD"
      },
      "source": [
        "---\n",
        "## Variables\n",
        "\n",
        "Una **variable** es un nombre al que asignamos algún valor. Para definir una variable en Python escribimos el nombre de la misma seguido del símbolo igual `=` más el valor que queremos asignarle"
      ]
    },
    {
      "cell_type": "code",
      "execution_count": 11,
      "metadata": {
        "id": "55xJbR4Rb2dE"
      },
      "outputs": [],
      "source": [
        "x = 42"
      ]
    },
    {
      "cell_type": "markdown",
      "metadata": {
        "id": "fULWEcjXb2dE"
      },
      "source": [
        "Python tiene **tipado dinánimo**, es decir, no es necesario indicar al intérprete cuál es el tipo de cada variable, si no que lo infiere por sí solo en función de la forma en la que lo escribamos y la expresión en la que se utilice. "
      ]
    },
    {
      "cell_type": "markdown",
      "metadata": {
        "id": "NSGpDNIAb2dF"
      },
      "source": [
        "Para obtener el tipo de un objeto utilizamos la función `type`"
      ]
    },
    {
      "cell_type": "code",
      "execution_count": 12,
      "metadata": {
        "id": "fz01Q5zBb2dF",
        "colab": {
          "base_uri": "https://localhost:8080/"
        },
        "outputId": "7ab82421-a7f2-4c15-a077-cc0278fc79ab"
      },
      "outputs": [
        {
          "output_type": "execute_result",
          "data": {
            "text/plain": [
              "int"
            ]
          },
          "metadata": {},
          "execution_count": 12
        }
      ],
      "source": [
        "type(42)"
      ]
    },
    {
      "cell_type": "markdown",
      "metadata": {
        "id": "04fYq65Fb2dG"
      },
      "source": [
        "Es posible escribir definiciones en las que explícitamente indiquemos el tipo con un fin meramente informativo"
      ]
    },
    {
      "cell_type": "code",
      "execution_count": 13,
      "metadata": {
        "id": "JEpw8yoLb2dG"
      },
      "outputs": [],
      "source": [
        "x: int = 42"
      ]
    },
    {
      "cell_type": "markdown",
      "metadata": {
        "id": "rWFvRMyxb2dH"
      },
      "source": [
        "El intérprete de Python ignorará por completo este tipado manual. Esta sintaxis puede ser útil a la hora de mejorar la legibilidad del código y también puede ser utilizado por herramientas de terceros que verifiquen la consistencia del mismo, pero no cambiaremos el tipo de la variable. Por ejemplo"
      ]
    },
    {
      "cell_type": "code",
      "execution_count": 14,
      "metadata": {
        "id": "1HFFoSwwb2dH",
        "colab": {
          "base_uri": "https://localhost:8080/"
        },
        "outputId": "002e0166-8280-4267-c70d-7570e4bc9dc7"
      },
      "outputs": [
        {
          "output_type": "execute_result",
          "data": {
            "text/plain": [
              "int"
            ]
          },
          "metadata": {},
          "execution_count": 14
        }
      ],
      "source": [
        "x: str = 42\n",
        "type(x)"
      ]
    },
    {
      "cell_type": "markdown",
      "source": [
        "En realidad una variable es un nombre simbólico que hace de referencia o puntero a un objeto que se crea en memoria. Una vez hemos asignado el objeto a nuestra variable, podemos referenciarla por su nombre. \n",
        "\n",
        "Por ejemplo, al crear la variable \n",
        "```\n",
        "n = 300\n",
        "```\n",
        "estamos creando un objeto de tipo `int` con el valor 300 asignado a la variable `n`. "
      ],
      "metadata": {
        "id": "UohYhL3ja4IB"
      }
    },
    {
      "cell_type": "markdown",
      "source": [
        "![variable.webp](data:image/webp;base64,UklGRq4FAABXRUJQVlA4TKIFAAAve0IuEA8GKbJt18r6nzRDCk7wb4F5Tm83SYSDtpEkyayO1CE+JG9XIDWSJEmy1PyGxSBZ/kiWwxzhbmzbdpJNButcO1CXs9IBxSr7yVCHkKKH128SFUVYhAUqQlREBSyiIkSyUdllN0IRlY2KAEtlF9il8vUbURHH70ds2aWy2H8UsctuhEWx7CK2VMRujn8qi8/31z/bIipbLFssx382KqLy+Z3d/FOKLYpll92IXWD/ETZCVCxbNirHpbJFuBGK2KWyRVi2WHZRXD3iSCJEH3OM0ccUQ8zRxhRNhOhjOJFFEZcIEbgplrFAH8t0PhFHlIaUcnWE3JBrI8TzTJNr43EisO8XuxOLVMTirPjk9rk0isOduHDjm7Lx5Pl98eg//MZH7/He/3j7/BvZ8e7xOnAUpG3ArP6F7xmIiAnQK+ARaUKwbUeRMs3WZzLu7u4uuLM1KANScyqFJKL/btg2ciROsb6cqk939/+dbAmADEmKyB7frW3btm3bts2ZqYj88evqzLpcPEf034HbSIqUpePLMnX3A0K/Our1nBcFvZzv+r/d27ktaro4r8X+Y/+x/9h/7D/2H/uP/cf+Y/85Ak/h0NEjIn6cjRR6zPHXLN0rVPdLNX4QcfMlEsaDSDXPbT7D1aLzjVB76/SAiJsP4ev6QK45TDMhfpNRW4kAETf/IX4TDZqHfJ4I3m4zAkTcfIeITTRqzlPYnfiUgdqwBSJunkOLMgMXPAz1yoBgGYCEm+cwixrhlYoIAFdCzb7SeC+iSb5Ajf0SL3hL9h0S0SDiRjj39jjMAEdjNern2qM03WijhvQTb0+f0jRaQMSNcNq9e/yqgv/YiqJErB6N3T8Ucafc/t+zoHmcxoGIG90cId67x86qvQ8vxNMmqXc21wkUdUo76c4kRDIftI1pHYi4Ea53ET6Cba/lJVyzuJfQZsCiVpRhzWTJLeNGN0cAIdgl64kl8crmKYt0K3q3uUqUcSPcZEWQAn78dnI7QFD8qYuQRB7YhEpl3L4YORo52MLVHtToA4JmkxNumNZcmmXcsAq2g0oUIFYYbAOXbVTBBt6KfUR+r92t0Q0ABi4ybpgEsygIlVtflyIgV2fnso0yYBa/EEayGbD4S4/VDNUaszJumFyGQZTtxkBZ4fGzuzaagJZvmY8+4KlkqNT5Xzd8GmBckXHgro0uIJXzQrMTD78sEF24a6MP+IU6XN8ElB3mVX1018YgIBRYR7JRM/7vBLJRVBKj1VMoWE+T4rHYf4EhOFoZBYSjzAeRbKY8P5XP1zonqcl7/iYvrMfEnQFkbjHOyIrJaj1Ujodd1u9GZPSkWJWToOHOYv17tM9pW7mnjnD9zF8Lg8fTc5Gr9jZKqF/Li1hErRn8DtcVEcutQ3qtB0edTJ++cTLhzJGTmG9zP4V0jvpkwfkQSt5tXvO5e8TTDKOO+8gibqRT1CcLBLa5g8bSkM1BpIFaqBRE3CjnqEm2nAdmliPxyiBrKevJETco4kY5RU2ylHuJT/K1Bpzx0iJuhHNUJ9wM0o0+i79NngjhFFXJHq5e1HfSfO7bss8kP07CjXCOioRW+aXay7ZooieUxpybL5qg+vQbfL4hRVy1kXAjnKKU8Mp7QkS1X58SoX0/NqtpwxG6+l5Crwf7RrUOLpIBJNwI5ygmzLrRvJl0s5nrfKPqAUDCjXDaHwm3DnOOU4DGPanBR9hIuCFzVwZFle8Em7piTVIHap0HJvPBlIOkX6nu3zINykov3z001c/4z6l1/quCSyPCY38NBKPWGNaiAETckLkCTV0JbyPUrAm5zr3ma+AfBGfTjUvyMjWcZdy8BfqSYM340W3Y5uNmsz//v+rbrxL17cXcrOvwDdf1sGwUv3dNGfYf+4/9x/5j/7H/2H/sP/Yf++8vB7/3/4X5vf9t7S+vEA==)"
      ],
      "metadata": {
        "id": "2peW5y-mgszJ"
      }
    },
    {
      "cell_type": "markdown",
      "metadata": {
        "id": "Em8HzNVNb2dI"
      },
      "source": [
        "---\n",
        "## Expresiones\n",
        "\n",
        "Una **expresión** es una combinación de valores, variables y operadores que produce un resultado. \n",
        "\n",
        "Escribiendo expresiones podemos utilizar Python como si de una calculadora se tratara, utilizando las operaciones aritméticas habituales (`+`, `-`, `*`, `/`) con el orden habitual de estas.\n",
        "\n",
        "```{code} \n",
        "2 + 2            # 4\n",
        "50 - 5*6         # 20\n",
        "(50 - 5*6) / 4   # 5.0\n",
        "8 / 5            # 1.6\n",
        "```"
      ]
    },
    {
      "cell_type": "code",
      "execution_count": null,
      "metadata": {
        "colab": {
          "base_uri": "https://localhost:8080/"
        },
        "id": "PpOrbFXGb2dJ",
        "outputId": "e13daa3f-62c7-4291-e303-d6fa5f1dd4b2"
      },
      "outputs": [
        {
          "output_type": "execute_result",
          "data": {
            "text/plain": [
              "14"
            ]
          },
          "metadata": {},
          "execution_count": 2
        }
      ],
      "source": [
        "2 + 3 * 4"
      ]
    }
  ],
  "metadata": {
    "kernelspec": {
      "display_name": "Python 3.9.1 64-bit",
      "language": "python",
      "name": "python3"
    },
    "language_info": {
      "codemirror_mode": {
        "name": "ipython",
        "version": 3
      },
      "file_extension": ".py",
      "mimetype": "text/x-python",
      "name": "python",
      "nbconvert_exporter": "python",
      "pygments_lexer": "ipython3",
      "version": "3.9.1"
    },
    "orig_nbformat": 4,
    "vscode": {
      "interpreter": {
        "hash": "397704579725e15f5c7cb49fe5f0341eb7531c82d19f2c29d197e8b64ab5776b"
      }
    },
    "colab": {
      "provenance": []
    }
  },
  "nbformat": 4,
  "nbformat_minor": 0
}