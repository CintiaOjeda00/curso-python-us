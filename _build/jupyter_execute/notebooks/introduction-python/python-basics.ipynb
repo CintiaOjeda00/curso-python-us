{
 "cells": [
  {
   "cell_type": "markdown",
   "metadata": {
    "id": "chMSoBscb2c_"
   },
   "source": [
    "# Principios básicos de Python \n",
    "\n",
    "En esta sección vamos a familiarizarnos con los tipos predefinidos de Python y cómo manejarlos para transformar los diferentes datos de nuestro programa. \n",
    "\n",
    "---\n",
    "## Predefinidos, Variables y Expresiones\n",
    "\n",
    "Python incorpora una serie de tipos predefinidos o primitivos como **enteros**, **flotantes**, **cadenas** o **booleanos**"
   ]
  },
  {
   "cell_type": "markdown",
   "metadata": {
    "id": "7vBMjp9lb2dB"
   },
   "source": [
    "```\n",
    "42              # int \n",
    "4.2             # float\n",
    "\"forty-two\"     # str\n",
    "True            # bool\n",
    "complex(1, -1)  # complex\n",
    "```"
   ]
  },
  {
   "cell_type": "markdown",
   "metadata": {
    "id": "_pLovaVmb2dD"
   },
   "source": [
    "---\n",
    "## Variables\n",
    "\n",
    "Una **variable** es un nombre al que asignamos algún valor. Para definir una variable en Python escribimos el nombre de la misma seguido del símbolo igual `=` más el valor que queremos asignarle"
   ]
  },
  {
   "cell_type": "code",
   "execution_count": 1,
   "metadata": {
    "id": "55xJbR4Rb2dE"
   },
   "outputs": [],
   "source": [
    "x = 42"
   ]
  },
  {
   "cell_type": "markdown",
   "metadata": {
    "id": "fULWEcjXb2dE"
   },
   "source": [
    "Python tiene **tipado dinámico**, es decir, no es necesario indicar al intérprete cuál es el tipo de cada variable, si no que lo infiere por sí solo en función de la forma en la que lo escribamos y la expresión en la que se utilice. "
   ]
  },
  {
   "cell_type": "markdown",
   "metadata": {
    "id": "NSGpDNIAb2dF"
   },
   "source": [
    "Para obtener el tipo de un objeto utilizamos la función `type`"
   ]
  },
  {
   "cell_type": "code",
   "execution_count": 2,
   "metadata": {
    "colab": {
     "base_uri": "https://localhost:8080/"
    },
    "id": "kzS_d-CHME_m",
    "outputId": "50ef9c58-2c7c-46cc-990d-398a1ccc6625"
   },
   "outputs": [
    {
     "data": {
      "text/plain": [
       "int"
      ]
     },
     "execution_count": 2,
     "metadata": {},
     "output_type": "execute_result"
    }
   ],
   "source": [
    "type(42)"
   ]
  },
  {
   "cell_type": "markdown",
   "metadata": {
    "id": "04fYq65Fb2dG"
   },
   "source": [
    "Es posible escribir definiciones en las que explícitamente indiquemos el tipo con un fin meramente informativo"
   ]
  },
  {
   "cell_type": "code",
   "execution_count": 3,
   "metadata": {
    "id": "JEpw8yoLb2dG"
   },
   "outputs": [],
   "source": [
    "x: int = 42"
   ]
  },
  {
   "cell_type": "markdown",
   "metadata": {
    "id": "rWFvRMyxb2dH"
   },
   "source": [
    "El intérprete de Python ignorará por completo este tipado manual. Esta sintaxis puede ser útil a la hora de mejorar la legibilidad del código y también puede ser utilizado por herramientas de terceros que verifiquen la consistencia del mismo, pero no cambiaremos el tipo de la variable. Por ejemplo"
   ]
  },
  {
   "cell_type": "code",
   "execution_count": 4,
   "metadata": {
    "colab": {
     "base_uri": "https://localhost:8080/"
    },
    "id": "g3U4xB4IME_o",
    "outputId": "38b05cc1-178a-45d1-96e7-ae5122018888"
   },
   "outputs": [
    {
     "data": {
      "text/plain": [
       "int"
      ]
     },
     "execution_count": 4,
     "metadata": {},
     "output_type": "execute_result"
    }
   ],
   "source": [
    "x: str = 42\n",
    "type(x)"
   ]
  },
  {
   "cell_type": "markdown",
   "metadata": {
    "id": "UohYhL3ja4IB"
   },
   "source": [
    "En realidad una variable es un nombre simbólico que hace de referencia o puntero a un objeto que se crea en memoria. Una vez hemos asignado el objeto a nuestra variable, podemos referenciarla por su nombre. \n",
    "\n",
    "Por ejemplo, al crear la variable \n",
    "```\n",
    "n = 300\n",
    "```\n",
    "estamos creando un objeto de tipo `int` con el valor 300 asignado a la variable `n`. "
   ]
  },
  {
   "cell_type": "markdown",
   "metadata": {
    "id": "XVs6nmSmQOGC"
   },
   "source": [
    "![picture](https://drive.google.com/uc?id=1LxoXumDnVh9kwvcSFYoN_1mIG39qO5LV)\n"
   ]
  },
  {
   "cell_type": "markdown",
   "metadata": {
    "id": "oZl3TbV7MQx7"
   },
   "source": [
    "Podemos consultar la dirección del objeto creado en memoria con la función `id` y el número de bytes reservado para guardarlo con la `getsizeof` dentro del módulo `sys`."
   ]
  },
  {
   "cell_type": "code",
   "execution_count": 6,
   "metadata": {
    "colab": {
     "base_uri": "https://localhost:8080/"
    },
    "id": "ojQxaH-2MqiX",
    "outputId": "aa46c138-9e16-4c0f-9231-f6808a6a23fb"
   },
   "outputs": [
    {
     "name": "stdout",
     "output_type": "stream",
     "text": [
      "139992072849904\n",
      "28\n"
     ]
    }
   ],
   "source": [
    "import sys\n",
    "\n",
    "n = 300\n",
    "print(id(n))\n",
    "print(sys.getsizeof(n))"
   ]
  },
  {
   "cell_type": "markdown",
   "metadata": {
    "id": "imWOPMJINjta"
   },
   "source": [
    "Si ahora realizamos otra asignación a la variable ya creada"
   ]
  },
  {
   "cell_type": "code",
   "execution_count": 7,
   "metadata": {
    "id": "IPo6jeb-NrLB"
   },
   "outputs": [],
   "source": [
    "m = n"
   ]
  },
  {
   "cell_type": "markdown",
   "metadata": {
    "id": "_oIiSGIANs4z"
   },
   "source": [
    "Python no creará un nuevo objeto, si no solamente una nueva referencia, que apunta al mismo objeto creado con anterioridad"
   ]
  },
  {
   "cell_type": "code",
   "execution_count": 8,
   "metadata": {
    "colab": {
     "base_uri": "https://localhost:8080/"
    },
    "id": "EQjo6VqCN4nx",
    "outputId": "8637d11b-ff95-418f-e51a-e43f4ad22223"
   },
   "outputs": [
    {
     "name": "stdout",
     "output_type": "stream",
     "text": [
      "139992072849904\n"
     ]
    }
   ],
   "source": [
    "print(id(m))"
   ]
  },
  {
   "cell_type": "markdown",
   "metadata": {
    "id": "mdHJPiBYO4gb"
   },
   "source": [
    "![picture](https://drive.google.com/uc?id=1wI1R_M0z9A8k5ynOnlO8U3FK10wUKZwf)\n"
   ]
  },
  {
   "cell_type": "markdown",
   "metadata": {
    "id": "EHuKLMuBO5G-"
   },
   "source": [
    "Asignando la variable `m` a otro objeto, su referencia en memoria cambiará"
   ]
  },
  {
   "cell_type": "code",
   "execution_count": 9,
   "metadata": {
    "colab": {
     "base_uri": "https://localhost:8080/"
    },
    "id": "MNLzxC1SO5OB",
    "outputId": "3f6b1671-86b4-4d4e-e60f-a2a971a8291b"
   },
   "outputs": [
    {
     "name": "stdout",
     "output_type": "stream",
     "text": [
      "139992072847792\n"
     ]
    }
   ],
   "source": [
    "m = 400\n",
    "print(id(m))"
   ]
  },
  {
   "cell_type": "markdown",
   "metadata": {
    "id": "tooKWzjpO5U7"
   },
   "source": [
    "![picture](https://drive.google.com/uc?id=1L6hU-KtS7T9nZNtx_hc2650Zp5Er3WJ5)"
   ]
  },
  {
   "cell_type": "markdown",
   "metadata": {
    "id": "lFBGI4gKP0yJ"
   },
   "source": [
    "En caso de que `n` cambie también su referencia, el objeto que guardaba el entero `300` se queda sin referencias"
   ]
  },
  {
   "cell_type": "code",
   "execution_count": 10,
   "metadata": {
    "id": "WxyAttGkQsuo"
   },
   "outputs": [],
   "source": [
    "n = \"foo\""
   ]
  },
  {
   "cell_type": "markdown",
   "metadata": {
    "id": "jy_DM_-QO5bA"
   },
   "source": [
    "![picture](https://drive.google.com/uc?id=1535KCfXgHMpIOSyBn67llPnBTeLNszf3)"
   ]
  },
  {
   "cell_type": "markdown",
   "metadata": {
    "id": "HkhHy05HQuke"
   },
   "source": [
    "El ciclo de vida de un objeto comienza cuando se crea, y durante el mismo puede tener múltiples referencias que se van creando y borrando. Sin embargo, cuando el número de referencias es cero, el objeto queda inaccesible. \n",
    "\n",
    "Python incorpora lo que se denomina un [**recolector de basura**](https://en.wikipedia.org/wiki/Garbage_collection_(computer_science)), o *garbage collector*, que se encarga de reclamar la memoria que ocupan los objetos que son innaccesibles. \n",
    "\n",
    "Finalmente, es importante notar que a la hora de nombrar las variables podemos utilizar cadenas de longitud arbitraria que sean combinación de letras mayúsculas y minúsculas, dígitos y guión bajo (`_`) -siempre que no empiecen por un dígito-. No obstante, según la guía de estilos para Python [PEP 8](https://peps.python.org/pep-0008/#function-and-variable-names) los nombres de variables deben ser en minúscula y con espacios separados por guiones bajos, lo que se denomina *Snake Case*."
   ]
  },
  {
   "cell_type": "code",
   "execution_count": 11,
   "metadata": {
    "id": "qHtD4UqwTXYD"
   },
   "outputs": [],
   "source": [
    "numberofcollegegraduates = 2500        # mal\n",
    "NUMBEROFCOLLEGEGRADUATES = 2500        # uppercase, reservado para variables globales\n",
    "numberOfCollegeGraduates = 2500        # Camel Case, reservado para clases\n",
    "NumberOfCollegeGraduates = 2500        # mal\n",
    "number_of_college_graduates = 2500     # Snake Case     "
   ]
  },
  {
   "cell_type": "markdown",
   "metadata": {
    "id": "m-52p86kXgEd"
   },
   "source": [
    ":::{exercise}\n",
    ":label: my-exercise\n",
    "\n",
    "Crea objetos de tipo `int`, `float`, `complex`, `str` y consulta cuánta memoria ocupan. ¿Depende el espacio sólo del tipo? \n",
    "\n",
    ":::"
   ]
  },
  {
   "cell_type": "markdown",
   "metadata": {
    "id": "Em8HzNVNb2dI"
   },
   "source": [
    "---\n",
    "## Expresiones\n",
    "\n",
    "Una **expresión** es una combinación de valores, variables y operadores que produce un resultado. \n",
    "\n",
    "Escribiendo expresiones podemos utilizar Python como si de una calculadora se tratara, utilizando las operaciones aritméticas habituales (`+`, `-`, `*`, `/`) con el orden habitual de estas.\n",
    "\n",
    "```{code} \n",
    "2 + 2            # 4\n",
    "50 - 5*6         # 20\n",
    "(50 - 5*6) / 4   # 5.0\n",
    "8 / 5            # 1.6\n",
    "```"
   ]
  },
  {
   "cell_type": "code",
   "execution_count": null,
   "metadata": {
    "colab": {
     "base_uri": "https://localhost:8080/"
    },
    "id": "PpOrbFXGb2dJ",
    "outputId": "889642bf-ae92-4f4e-b0ab-950cdee94534"
   },
   "outputs": [
    {
     "data": {
      "text/plain": [
       "14"
      ]
     },
     "execution_count": 5,
     "metadata": {},
     "output_type": "execute_result"
    }
   ],
   "source": [
    "2 + 3 * 4"
   ]
  }
 ],
 "metadata": {
  "colab": {
   "provenance": []
  },
  "kernelspec": {
   "display_name": "Python 3.9.1 64-bit",
   "language": "python",
   "name": "python3"
  },
  "language_info": {
   "codemirror_mode": {
    "name": "ipython",
    "version": 3
   },
   "file_extension": ".py",
   "mimetype": "text/x-python",
   "name": "python",
   "nbconvert_exporter": "python",
   "pygments_lexer": "ipython3",
   "version": "3.9.1"
  },
  "vscode": {
   "interpreter": {
    "hash": "397704579725e15f5c7cb49fe5f0341eb7531c82d19f2c29d197e8b64ab5776b"
   }
  }
 },
 "nbformat": 4,
 "nbformat_minor": 0
}